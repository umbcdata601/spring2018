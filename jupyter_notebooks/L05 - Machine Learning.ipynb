{
 "cells": [
  {
   "cell_type": "code",
   "execution_count": 1,
   "metadata": {
    "slideshow": {
     "slide_type": "skip"
    }
   },
   "outputs": [
    {
     "data": {
      "text/plain": [
       "{'scroll': True, 'start_slideshow_at': 'selected', 'theme': 'night'}"
      ]
     },
     "execution_count": 1,
     "metadata": {},
     "output_type": "execute_result"
    }
   ],
   "source": [
    "from __future__ import print_function\n",
    "\n",
    "from traitlets.config.manager import BaseJSONConfigManager\n",
    "path = '/Users/jmk/anaconda2/envs/data601/etc/jupyter/nbconfig'\n",
    "cm = BaseJSONConfigManager(config_dir=path)\n",
    "cm.update('livereveal', {\n",
    "              'theme': 'night',\n",
    "              'scroll': True,\n",
    "              #'transition': 'zoom',\n",
    "              'start_slideshow_at': 'selected',\n",
    "})"
   ]
  },
  {
   "cell_type": "markdown",
   "metadata": {
    "slideshow": {
     "slide_type": "slide"
    }
   },
   "source": [
    "# Machine Learning\n",
    "\n",
    "> Making decisions or predictions from patterns observed in data gives \"computers the ability to learn without being explicitly programmed.\" \n",
    ">\n",
    "> [Arthur Samuels, 1959]\n",
    "\n",
    "In short, we predict things.  "
   ]
  },
  {
   "cell_type": "markdown",
   "metadata": {
    "slideshow": {
     "slide_type": "slide"
    }
   },
   "source": [
    "## ... on terminology\n",
    "* People will often talk about the generated code as being a **“model”** a **“classifier”** or a **“regressor”**.   \n",
    "* Sometimes they use the word “algorithm” here, but I’ll tend to reserve that for the type of machine learning we’re doing (e.g. deep learning, SVMs, naive Bayes) and not the _output_ of the machine learning algorithm\n",
    "\n",
    "So _machine learning_ is applying an _algorithm_ to _data_ to produce a _model_ that makes _predictions_."
   ]
  },
  {
   "cell_type": "markdown",
   "metadata": {
    "slideshow": {
     "slide_type": "slide"
    }
   },
   "source": [
    "# Supervised vs. Unsupervised\n",
    "\n",
    "Machine learning algorithms fall into two broad buckets:\n",
    "    \n",
    "* **Supervised learning** - where we know the answer we want for a large number of samples and we want to learn to predict the answer for new ones\n",
    "* **Unsupervised learning** - where we don't have any particular answers in mind (much more useful for exploratory analysis)\n",
    "\n",
    "For now we'll focus on supervised learning."
   ]
  },
  {
   "cell_type": "markdown",
   "metadata": {
    "slideshow": {
     "slide_type": "slide"
    }
   },
   "source": [
    "# Supervised Learning\n",
    "\n",
    "* Data includes one attribute we want to learn to predict\n",
    "  * This is called the **target variable** or often just **_y_**.\n",
    "* All the other columns are often called **_X_**.\n",
    "* Our ML model is then a function, _f_ that maps **_f(X) = y_**.\n",
    "\n",
    "* Data with an included target are called \"labelled data\" (sometimes also \"ground truth\")\n",
    "* Data without an included target are called \"unlabelled\" and are mostly useless for supervised learning\n",
    "\n",
    "In supervised learning we'll use the labelled training data to \"learn from\".  We define a \"cost function\" which helps us define how \"wrong\" an answer might be in order to decide how much to \"correct\" later predictions."
   ]
  },
  {
   "cell_type": "markdown",
   "metadata": {
    "slideshow": {
     "slide_type": "slide"
    }
   },
   "source": [
    "# Examples of supervised machine learning models\n",
    "\n",
    "* Given an email as input, classify it as _spam_ or _not-spam_\n",
    "* Given data about a house, predict its sale price\n",
    "* Given a date, predict that day's rainfall\n",
    "* Given a website visitor, predict if they're likely to sign up\n",
    "* Given a network traffic stream, predict if it's normal or malicious"
   ]
  },
  {
   "cell_type": "markdown",
   "metadata": {
    "slideshow": {
     "slide_type": "slide"
    }
   },
   "source": [
    "# Two major types of problems we solve with ML\n",
    "\n",
    "* Classification - Given two (or more) _classes_, which class does each sample belong to\n",
    "* Regression - Given an input, predict a continuous output variable (e.g. temperature, house price)"
   ]
  },
  {
   "cell_type": "markdown",
   "metadata": {
    "slideshow": {
     "slide_type": "fragment"
    }
   },
   "source": [
    "#  What does this all really mean?  What does it look like?\n",
    "\n",
    "Let's simplify things a little and look at a set of points.  "
   ]
  },
  {
   "cell_type": "code",
   "execution_count": 3,
   "metadata": {
    "slideshow": {
     "slide_type": "slide"
    }
   },
   "outputs": [
    {
     "name": "stdout",
     "output_type": "stream",
     "text": [
      "(100, 3)\n"
     ]
    },
    {
     "data": {
      "text/html": [
       "<div>\n",
       "<style scoped>\n",
       "    .dataframe tbody tr th:only-of-type {\n",
       "        vertical-align: middle;\n",
       "    }\n",
       "\n",
       "    .dataframe tbody tr th {\n",
       "        vertical-align: top;\n",
       "    }\n",
       "\n",
       "    .dataframe thead th {\n",
       "        text-align: right;\n",
       "    }\n",
       "</style>\n",
       "<table border=\"1\" class=\"dataframe\">\n",
       "  <thead>\n",
       "    <tr style=\"text-align: right;\">\n",
       "      <th></th>\n",
       "      <th>x</th>\n",
       "      <th>y</th>\n",
       "      <th>target</th>\n",
       "    </tr>\n",
       "  </thead>\n",
       "  <tbody>\n",
       "    <tr>\n",
       "      <th>0</th>\n",
       "      <td>-2.988372</td>\n",
       "      <td>8.828627</td>\n",
       "      <td>0</td>\n",
       "    </tr>\n",
       "    <tr>\n",
       "      <th>1</th>\n",
       "      <td>5.722930</td>\n",
       "      <td>3.026972</td>\n",
       "      <td>1</td>\n",
       "    </tr>\n",
       "    <tr>\n",
       "      <th>2</th>\n",
       "      <td>-3.053580</td>\n",
       "      <td>9.125209</td>\n",
       "      <td>0</td>\n",
       "    </tr>\n",
       "    <tr>\n",
       "      <th>3</th>\n",
       "      <td>5.461939</td>\n",
       "      <td>3.869963</td>\n",
       "      <td>1</td>\n",
       "    </tr>\n",
       "    <tr>\n",
       "      <th>4</th>\n",
       "      <td>4.867339</td>\n",
       "      <td>3.280312</td>\n",
       "      <td>1</td>\n",
       "    </tr>\n",
       "  </tbody>\n",
       "</table>\n",
       "</div>"
      ],
      "text/plain": [
       "          x         y  target\n",
       "0 -2.988372  8.828627       0\n",
       "1  5.722930  3.026972       1\n",
       "2 -3.053580  9.125209       0\n",
       "3  5.461939  3.869963       1\n",
       "4  4.867339  3.280312       1"
      ]
     },
     "execution_count": 3,
     "metadata": {},
     "output_type": "execute_result"
    }
   ],
   "source": [
    "#  Some boilerplate for visualization...\n",
    "%matplotlib inline\n",
    "from matplotlib import pyplot as plt\n",
    "import seaborn as sns\n",
    "sns.set(color_codes=True)\n",
    "\n",
    "from pandas import DataFrame\n",
    "from sklearn.datasets import make_blobs\n",
    "\n",
    "X, y = make_blobs(n_features=2, centers=2, random_state=42)\n",
    "df = DataFrame(X)\n",
    "\n",
    "#  Add the target variable into the dataframe (this let's seaborn color based on it)\n",
    "df['target'] = y\n",
    "\n",
    "#  Name the columns for sanity's sake...\n",
    "df.columns = ['x', 'y', 'target']\n",
    "print(df.shape)\n",
    "df.head()"
   ]
  },
  {
   "cell_type": "code",
   "execution_count": 4,
   "metadata": {
    "slideshow": {
     "slide_type": "slide"
    }
   },
   "outputs": [
    {
     "data": {
      "image/png": "[encoded data removed]",
      "text/plain": [
       "<Figure size 401.625x360 with 1 Axes>"
      ]
     },
     "metadata": {},
     "output_type": "display_data"
    }
   ],
   "source": [
    "#  Let's plot our dataset on a 2D grid ...\n",
    "import numpy as np\n",
    "\n",
    "facetgrid = sns.lmplot(data=df, x='x', y='y', hue='target', fit_reg=False)"
   ]
  },
  {
   "cell_type": "markdown",
   "metadata": {
    "slideshow": {
     "slide_type": "fragment"
    }
   },
   "source": [
    "Note that we have two \"blobs\" that are different colors.\n",
    "\n",
    "These are different _classes_ in our dataset.  The blue dots are one class (class 0) and the green dots are another (class 1).\n",
    "\n",
    "The process of \"learning a model\" to classify these points learns to draw a line between them.  On one side of the line is class 0, the other side is class 1."
   ]
  },
  {
   "cell_type": "code",
   "execution_count": 5,
   "metadata": {
    "slideshow": {
     "slide_type": "slide"
    }
   },
   "outputs": [
    {
     "data": {
      "text/plain": [
       "[<matplotlib.lines.Line2D at 0x10d80bd30>]"
      ]
     },
     "execution_count": 5,
     "metadata": {},
     "output_type": "execute_result"
    },
    {
     "data": {
      "image/png": "[encoded data removed]",
      "text/plain": [
       "<Figure size 401.625x360 with 1 Axes>"
      ]
     },
     "metadata": {},
     "output_type": "display_data"
    }
   ],
   "source": [
    "facetgrid = sns.lmplot(data=df, x='x', y='y', hue='target', fit_reg=False)\n",
    "plt.plot([-8, 8], [-2, 10], color='r')\n",
    "#  Note that there are lots of other possible lines separating these\n",
    "plt.plot([-8, 8], [2, 6], color='y')\n",
    "plt.plot([-8, 8], [4, 8], color='b')\n",
    "#  Note that this takes the two x arguments first, then the two y arguments"
   ]
  },
  {
   "cell_type": "markdown",
   "metadata": {
    "slideshow": {
     "slide_type": "fragment"
    }
   },
   "source": [
    "The algorthims we discuss are all different strategies to take samples from the two classes and pick a **\"decision boundary\"** that \"generalizes\" well to unseen data."
   ]
  },
  {
   "cell_type": "code",
   "execution_count": 6,
   "metadata": {
    "slideshow": {
     "slide_type": "slide"
    }
   },
   "outputs": [
    {
     "data": {
      "text/plain": [
       "array([0, 1])"
      ]
     },
     "execution_count": 6,
     "metadata": {},
     "output_type": "execute_result"
    }
   ],
   "source": [
    "from sklearn.linear_model import LogisticRegression\n",
    "\n",
    "#  Let's create a logistic regression classifier \n",
    "#  (we'll talk about the details of this later)\n",
    "#\n",
    "#  In sklearn parlance, this is an Estimator and can be .fit()\n",
    "#  to data and can .predict() on data.\n",
    "clf = LogisticRegression()\n",
    "clf.fit(X, y)\n",
    "\n",
    "#  Now we're done training.\n",
    "new_examples = [\n",
    "    [-4, 10],\n",
    "    [10, -4]\n",
    "]\n",
    "\n",
    "#  Let's see where we predict these new samples lie.\n",
    "clf.predict(new_examples)"
   ]
  },
  {
   "cell_type": "markdown",
   "metadata": {
    "slideshow": {
     "slide_type": "slide"
    }
   },
   "source": [
    "Now let's look at the actual model we've produced.\n",
    "\n",
    "Curiously, this is WAY more complex than it probably should be in sklearn.  ;)\n",
    "\n",
    "This happens in three parts:\n",
    "\n",
    "* Make a grid of all the samples in the space\n",
    "* Evaluate the classifier on all of them\n",
    "* Plot the results"
   ]
  },
  {
   "cell_type": "code",
   "execution_count": 7,
   "metadata": {
    "slideshow": {
     "slide_type": "slide"
    }
   },
   "outputs": [
    {
     "data": {
      "text/plain": [
       "array([[-10.  ,  -4.  ],\n",
       "       [-10.  ,  -3.99],\n",
       "       [-10.  ,  -3.98],\n",
       "       ...,\n",
       "       [  9.99,  11.97],\n",
       "       [  9.99,  11.98],\n",
       "       [  9.99,  11.99]])"
      ]
     },
     "execution_count": 7,
     "metadata": {},
     "output_type": "execute_result"
    }
   ],
   "source": [
    "#  This is sort of boilerplate for now.  \n",
    "#  \n",
    "#  It creates a grid on which we can show the decision boundary.\n",
    "xx, yy = np.mgrid[-10:10:.01, -4:12:.01]\n",
    "grid = np.c_[xx.ravel(), yy.ravel()]\n",
    "\n",
    "#  Observe that grid is now the set of all points on the diagram \n",
    "#  above, by 0.01 increments.\n",
    "grid"
   ]
  },
  {
   "cell_type": "code",
   "execution_count": 13,
   "metadata": {},
   "outputs": [
    {
     "data": {
      "text/plain": [
       "[(-4, 12), Text(0,0.5,'$X_2$'), (-10, 10), Text(0.5,0,'$X_1$'), None]"
      ]
     },
     "execution_count": 13,
     "metadata": {},
     "output_type": "execute_result"
    },
    {
     "data": {
      "image/png": "[encoded data removed]",
      "text/plain": [
       "<Figure size 576x432 with 1 Axes>"
      ]
     },
     "metadata": {},
     "output_type": "display_data"
    }
   ],
   "source": [
    "#  Now we want to predict over the entire grid.  That is, we want to\n",
    "#  predict the probability of class 0 for each point in the plane.\n",
    "probs = clf.predict_proba(grid)[:, 1].reshape(xx.shape)\n",
    "\n",
    "#  Then we plot this as a contour plot showing only the decision\n",
    "#  boundary (level=0.5 is the midpoint)\n",
    "f, ax = plt.subplots(figsize=(8, 6))\n",
    "ax.contour(xx, yy, probs, levels=[.5], cmap=\"Greys\", vmin=0, vmax=.6)\n",
    "\n",
    "#  Then add the training data samples on top.\n",
    "ax.scatter(X[:,0], X[:, 1], c=y[:], s=50,\n",
    "           cmap=\"RdBu\", vmin=-.2, vmax=1.2,\n",
    "           edgecolor=\"white\", linewidth=1)\n",
    "\n",
    "#  ... and add some labels.\n",
    "ax.set(aspect=\"equal\",\n",
    "       xlim=(-10, 10), ylim=(-4, 12),\n",
    "       xlabel=\"$X_1$\", ylabel=\"$X_2$\")"
   ]
  },
  {
   "cell_type": "code",
   "execution_count": 9,
   "metadata": {},
   "outputs": [
    {
     "data": {
      "text/plain": [
       "array([0, 1])"
      ]
     },
     "execution_count": 9,
     "metadata": {},
     "output_type": "execute_result"
    }
   ],
   "source": [
    "#  We can make predictions for individual points too.  \n",
    "#  Note that predict takes a list of samples that are \n",
    "#  of the same form as the training inputs (in this case, \n",
    "#  (x,y) pairs)\n",
    "clf.predict([[-0.3, 0], [0.1, 0]])"
   ]
  },
  {
   "cell_type": "code",
   "execution_count": 10,
   "metadata": {},
   "outputs": [
    {
     "data": {
      "text/plain": [
       "array([[0.5569519 , 0.4430481 ],\n",
       "       [0.42032092, 0.57967908]])"
      ]
     },
     "execution_count": 10,
     "metadata": {},
     "output_type": "execute_result"
    }
   ],
   "source": [
    "#  Or predict the probabilities of each class.\n",
    "clf.predict_proba([[-0.3, 0], [0.1, 0]])"
   ]
  },
  {
   "cell_type": "code",
   "execution_count": 11,
   "metadata": {
    "slideshow": {
     "slide_type": "skip"
    }
   },
   "outputs": [
    {
     "data": {
      "text/plain": [
       "[(-4, 12), Text(0,0.5,'$X_2$'), (-10, 10), Text(0.5,0,'$X_1$'), None]"
      ]
     },
     "execution_count": 11,
     "metadata": {},
     "output_type": "execute_result"
    },
    {
     "data": {
      "image/png": "[encoded data removed]",
      "text/plain": [
       "<Figure size 576x432 with 2 Axes>"
      ]
     },
     "metadata": {},
     "output_type": "display_data"
    }
   ],
   "source": [
    "xx, yy = np.mgrid[-10:10:.1, -4:12:.1]\n",
    "grid = np.c_[xx.ravel(), yy.ravel()]\n",
    "\n",
    "#  Calculate the probability of class 1 for each sample\n",
    "probs = clf.predict_proba(grid)[:, 1].reshape(xx.shape)\n",
    "\n",
    "#  Use this version to show just the classes, not the probability.\n",
    "#probs = clf.predict(grid).reshape(xx.shape)\n",
    "\n",
    "f, ax = plt.subplots(figsize=(8, 6))\n",
    "contour = ax.contourf(xx, yy, probs, 25, cmap=\"RdBu\",\n",
    "                      vmin=0, vmax=1)\n",
    "ax_c = f.colorbar(contour)\n",
    "ax_c.set_label(\"$P(y = 1)$\")\n",
    "ax_c.set_ticks([0, .25, .5, .75, 1])\n",
    "\n",
    "ax.scatter(X[:,0], X[:, 1], c=y[:], s=50,\n",
    "           cmap=\"RdBu\", vmin=-.2, vmax=1.2,\n",
    "           edgecolor=\"white\", linewidth=1)\n",
    "\n",
    "ax.set(aspect=\"equal\",\n",
    "       xlim=(-10, 10), ylim=(-4, 12),\n",
    "       xlabel=\"$X_1$\", ylabel=\"$X_2$\")"
   ]
  },
  {
   "cell_type": "code",
   "execution_count": 12,
   "metadata": {},
   "outputs": [
    {
     "data": {
      "text/plain": [
       "['C',\n",
       " '__class__',\n",
       " '__delattr__',\n",
       " '__dict__',\n",
       " '__dir__',\n",
       " '__doc__',\n",
       " '__eq__',\n",
       " '__format__',\n",
       " '__ge__',\n",
       " '__getattribute__',\n",
       " '__getstate__',\n",
       " '__gt__',\n",
       " '__hash__',\n",
       " '__init__',\n",
       " '__init_subclass__',\n",
       " '__le__',\n",
       " '__lt__',\n",
       " '__module__',\n",
       " '__ne__',\n",
       " '__new__',\n",
       " '__reduce__',\n",
       " '__reduce_ex__',\n",
       " '__repr__',\n",
       " '__setattr__',\n",
       " '__setstate__',\n",
       " '__sizeof__',\n",
       " '__str__',\n",
       " '__subclasshook__',\n",
       " '__weakref__',\n",
       " '_estimator_type',\n",
       " '_get_param_names',\n",
       " '_predict_proba_lr',\n",
       " 'class_weight',\n",
       " 'classes_',\n",
       " 'coef_',\n",
       " 'decision_function',\n",
       " 'densify',\n",
       " 'dual',\n",
       " 'fit',\n",
       " 'fit_intercept',\n",
       " 'get_params',\n",
       " 'intercept_',\n",
       " 'intercept_scaling',\n",
       " 'max_iter',\n",
       " 'multi_class',\n",
       " 'n_iter_',\n",
       " 'n_jobs',\n",
       " 'penalty',\n",
       " 'predict',\n",
       " 'predict_log_proba',\n",
       " 'predict_proba',\n",
       " 'random_state',\n",
       " 'score',\n",
       " 'set_params',\n",
       " 'solver',\n",
       " 'sparsify',\n",
       " 'tol',\n",
       " 'verbose',\n",
       " 'warm_start']"
      ]
     },
     "execution_count": 12,
     "metadata": {},
     "output_type": "execute_result"
    }
   ],
   "source": [
    "dir(clf)"
   ]
  },
  {
   "cell_type": "markdown",
   "metadata": {
    "slideshow": {
     "slide_type": "slide"
    }
   },
   "source": [
    "# What does that have to do with spam, rainfall, house prices or _anything_!?\n",
    "\n",
    "Imagine if we took real world samples and plotted them into a 2D plane.\n",
    "\n",
    "_If_ we could do that, we could use the same line-drawing procedure.\n",
    "\n",
    "It turns out ML meets us half-way.  As long as we can represent our data as vectors of numbers, the algorithms generalize to dimensions beyond 2.  So we can learn to draw:\n",
    "\n",
    "* a line as a decision boundary in 2-dimensions, \n",
    "* a surface as the decision boundary in 3-dimensions,\n",
    "* a _hyperplane_ of dimension _n-1_ as the decision boundary in _n_-dimenions \n",
    "\n",
    "All of these are lower dimensional boundaries that can bisect a space in higher dimensions."
   ]
  },
  {
   "cell_type": "code",
   "execution_count": null,
   "metadata": {
    "collapsed": true
   },
   "outputs": [],
   "source": []
  }
 ],
 "metadata": {
  "celltoolbar": "Slideshow",
  "kernelspec": {
   "display_name": "Python 3.6",
   "language": "python",
   "name": "myenv"
  },
  "language_info": {
   "codemirror_mode": {
    "name": "ipython",
    "version": 3
   },
   "file_extension": ".py",
   "mimetype": "text/x-python",
   "name": "python",
   "nbconvert_exporter": "python",
   "pygments_lexer": "ipython3",
   "version": "3.6.2"
  }
 },
 "nbformat": 4,
 "nbformat_minor": 2
}
